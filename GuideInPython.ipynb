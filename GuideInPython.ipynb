{
 "cells": [
  {
   "cell_type": "code",
   "execution_count": 1,
   "metadata": {},
   "outputs": [],
   "source": [
    "from __future__ import print_function\n",
    "from ortools.linear_solver import pywraplp"
   ]
  },
  {
   "cell_type": "code",
   "execution_count": 2,
   "metadata": {},
   "outputs": [],
   "source": [
    "# Create the linear solver with the GLOP backend.\n",
    "solver = pywraplp.Solver('simple_lp_program',\n",
    "                         pywraplp.Solver.GLOP_LINEAR_PROGRAMMING)"
   ]
  },
  {
   "cell_type": "code",
   "execution_count": 3,
   "metadata": {},
   "outputs": [
    {
     "name": "stdout",
     "output_type": "stream",
     "text": [
      "Number of variables = 2\n"
     ]
    }
   ],
   "source": [
    "# Create the variables x and y.\n",
    "x = solver.NumVar(0, 1, 'x')\n",
    "y = solver.NumVar(0, 2, 'y')\n",
    "\n",
    "print('Number of variables =', solver.NumVariables())"
   ]
  },
  {
   "cell_type": "code",
   "execution_count": 4,
   "metadata": {},
   "outputs": [
    {
     "name": "stdout",
     "output_type": "stream",
     "text": [
      "Number of constraints = 1\n"
     ]
    }
   ],
   "source": [
    "# Create a linear constraint, 0 <= x + y <= 2.\n",
    "ct = solver.Constraint(0, 2, 'ct')\n",
    "ct.SetCoefficient(x, 1)\n",
    "ct.SetCoefficient(y, 1)\n",
    "\n",
    "print('Number of constraints =', solver.NumConstraints())"
   ]
  },
  {
   "cell_type": "code",
   "execution_count": 5,
   "metadata": {},
   "outputs": [],
   "source": [
    "# Create the objective function, 3 * x + y.\n",
    "objective = solver.Objective()\n",
    "objective.SetCoefficient(x, 3)\n",
    "objective.SetCoefficient(y, 1)\n",
    "objective.SetMaximization()"
   ]
  },
  {
   "cell_type": "code",
   "execution_count": 6,
   "metadata": {},
   "outputs": [
    {
     "name": "stdout",
     "output_type": "stream",
     "text": [
      "Solution:\n",
      "Objective value = 4.0\n",
      "x = 1.0\n",
      "y = 1.0\n"
     ]
    }
   ],
   "source": [
    "solver.Solve()\n",
    "print('Solution:')\n",
    "print('Objective value =', objective.Value())\n",
    "print('x =', x.solution_value())\n",
    "print('y =', y.solution_value())"
   ]
  },
  {
   "cell_type": "code",
   "execution_count": 10,
   "metadata": {},
   "outputs": [
    {
     "name": "stdout",
     "output_type": "stream",
     "text": [
      "Solution:\n",
      "Objective value = -14.999999999999996\n",
      "x = -0.9999999999999997\n",
      "y = -2.9999999999999996\n"
     ]
    }
   ],
   "source": [
    "# Problem 2\n",
    "# minimize 3x + 4y\n",
    "# x + 2y ≤ 14\n",
    "# 3x – y ≥ 0\n",
    "# x – y ≤ 2\n",
    "from __future__ import print_function\n",
    "from ortools.linear_solver import pywraplp\n",
    "\n",
    "solver = pywraplp.Solver('simple_lp_program',\n",
    "                         pywraplp.Solver.GLOP_LINEAR_PROGRAMMING)\n",
    "\n",
    "inf = solver.infinity()\n",
    "\n",
    "x = solver.NumVar(0, inf, 'x')\n",
    "y = solver.NumVar(0, inf, 'y')\n",
    "\n",
    "ct0 = solver.Constraint(-inf, 14, 'ct0')\n",
    "ct0.SetCoefficient(x, 1)\n",
    "ct0.SetCoefficient(y, 2)\n",
    "\n",
    "ct1 = solver.Constraint(0, inf, 'ct1')\n",
    "ct1.SetCoefficient(x, 3)\n",
    "ct1.SetCoefficient(y, -1)\n",
    "\n",
    "ct2 = solver.Constraint(-inf, 2, 'ct2')\n",
    "ct2.SetCoefficient(x, 1)\n",
    "ct2.SetCoefficient(y, -1)\n",
    "\n",
    "objective = solver.Objective()\n",
    "objective.SetCoefficient(x, 3)\n",
    "objective.SetCoefficient(y, 4)\n",
    "objective.SetMinimization()\n",
    "\n",
    "solver.Solve()\n",
    "print('Solution:')\n",
    "print('Objective value =', objective.Value())\n",
    "print('x =', x.solution_value())\n",
    "print('y =', y.solution_value())"
   ]
  },
  {
   "cell_type": "code",
   "execution_count": null,
   "metadata": {},
   "outputs": [],
   "source": []
  }
 ],
 "metadata": {
  "kernelspec": {
   "display_name": "Python 3",
   "language": "python",
   "name": "python3"
  },
  "language_info": {
   "codemirror_mode": {
    "name": "ipython",
    "version": 3
   },
   "file_extension": ".py",
   "mimetype": "text/x-python",
   "name": "python",
   "nbconvert_exporter": "python",
   "pygments_lexer": "ipython3",
   "version": "3.7.4"
  }
 },
 "nbformat": 4,
 "nbformat_minor": 2
}
